{
 "cells": [
  {
   "metadata": {},
   "cell_type": "code",
   "source": [
    "from dotenv import load_dotenv\n",
    "import os\n",
    "\n",
    "load_dotenv()\n",
    "\n",
    "YOUR_APP_CLIENT_ID = os.getenv(\"YOUR_APP_CLIENT_ID\")\n",
    "YOUR_APP_CLIENT_SECRET = os.getenv(\"YOUR_APP_CLIENT_SECRET\")"
   ],
   "id": "ae39f6fa06e9a31e",
   "outputs": [],
   "execution_count": null
  },
  {
   "metadata": {},
   "cell_type": "code",
   "source": [
    "import spotipy\n",
    "from spotipy.oauth2 import SpotifyOAuth\n",
    "\n",
    "sp = spotipy.Spotify(auth_manager=SpotifyOAuth(\n",
    "    client_id=YOUR_APP_CLIENT_ID,\n",
    "    client_secret=YOUR_APP_CLIENT_SECRET,\n",
    "    redirect_uri=\"http://127.0.0.1:8000/callback\",\n",
    "    scope=\"user-library-read,user-read-playback-state,user-read-playback-position,user-top-read,user-read-recently-played,user-follow-read\",\n",
    "))\n",
    "\n",
    "results = sp.current_user_saved_tracks()\n",
    "for idx, item in enumerate(results['items']):\n",
    "    track = item['track']\n",
    "    print(idx, track['artists'][0]['name'], \" – \", track['name'])"
   ],
   "id": "initial_id",
   "outputs": [],
   "execution_count": null
  },
  {
   "metadata": {},
   "cell_type": "code",
   "source": "sp.current_user()",
   "id": "c72923218409260a",
   "outputs": [],
   "execution_count": null
  },
  {
   "metadata": {
    "ExecuteTime": {
     "end_time": "2025-05-24T14:12:18.225963Z",
     "start_time": "2025-05-24T14:12:17.963672Z"
    }
   },
   "cell_type": "code",
   "source": [
    "top_tracks = sp.current_user_top_tracks(limit=5, time_range='short_term')\n",
    "tracks = top_tracks.get('items', [])\n",
    "\n",
    "print(\"🎵 Your Top 5 Tracks (Short Term):\\n\")\n",
    "for idx, track in enumerate(tracks, start=1):\n",
    "    name = track['name']\n",
    "    artists = \", \".join(artist['name'] for artist in track['artists'])\n",
    "    album = track['album']['name']\n",
    "    print(f\"{idx}. {name} by {artists} (Album: {album})\")"
   ],
   "id": "a1032964984bdb91",
   "outputs": [
    {
     "name": "stdout",
     "output_type": "stream",
     "text": [
      "🎵 Your Top 5 Tracks (Short Term):\n",
      "\n",
      "1. GUTS RAGE. (Berserk x HOLLY TEST Slowed) by snort., SAPFIR (Album: GUTS RAGE. (Berserk x HOLLY TEST Slowed))\n",
      "2. ALORS KRUSH by RAIZHELL (Album: TRIBAL HELL)\n",
      "3. MONTAGEM CANTANDO by CHASHKAKEFIRA (Album: MONTAGEM CANTANDO)\n",
      "4. Sports car by Tate McRae (Album: So Close To What)\n",
      "5. ROYALTY by FXRCE (Album: ROYALTY)\n"
     ]
    }
   ],
   "execution_count": 69
  },
  {
   "metadata": {
    "ExecuteTime": {
     "end_time": "2025-05-24T14:23:31.816564Z",
     "start_time": "2025-05-24T14:23:31.595331Z"
    }
   },
   "cell_type": "code",
   "source": [
    "top_artists = sp.current_user_top_artists(limit=5, time_range='short_term')\n",
    "artists = top_artists.get('items', [])\n",
    "\n",
    "print(\"🎤 Your Top 5 Artists (Short Term):\\n\")\n",
    "for idx, artist in enumerate(artists, start=1):\n",
    "    name = artist['name']\n",
    "    genres = \", \".join(artist.get('genres', [])) or \"No genre info\"\n",
    "    print(f\"{idx}. {name} (Genres: {genres})\")"
   ],
   "id": "93e6ae57a1319d0a",
   "outputs": [
    {
     "name": "stdout",
     "output_type": "stream",
     "text": [
      "🎤 Your Top 5 Artists (Short Term):\n",
      "\n",
      "1. CHASHKAKEFIRA (Genres: phonk, brazilian phonk)\n",
      "2. Tate McRae (Genres: No genre info)\n",
      "3. TEENWXVE (Genres: phonk, brazilian phonk)\n",
      "4. DR MØB (Genres: phonk, brazilian phonk)\n",
      "5. ARXMANE (Genres: phonk, brazilian phonk, rally house)\n"
     ]
    }
   ],
   "execution_count": 73
  },
  {
   "metadata": {
    "ExecuteTime": {
     "end_time": "2025-05-24T14:30:19.445878Z",
     "start_time": "2025-05-24T14:30:18.587023Z"
    }
   },
   "cell_type": "code",
   "source": [
    "from collections import Counter\n",
    "\n",
    "def get_top_genres_from_artists(sp, batch_count=5, batch_size=50, time_range='short_term'):\n",
    "    all_genres = []\n",
    "    total_artists = 0\n",
    "    batch = 0\n",
    "\n",
    "    for batch in range(batch_count):\n",
    "        offset = batch * batch_size\n",
    "        response = sp.current_user_top_artists(limit=batch_size, offset=offset, time_range=time_range)\n",
    "        artists = response.get('items', [])\n",
    "        batch_artist_count = len(artists)\n",
    "\n",
    "        if batch_artist_count == 0:\n",
    "            batch = batch - 1\n",
    "            break\n",
    "\n",
    "        total_artists += batch_artist_count\n",
    "\n",
    "        for artist in artists:\n",
    "            all_genres.extend(artist.get('genres', []))\n",
    "\n",
    "    print(f\"\\nTotal of {total_artists} artists extracted in {batch + 1} batch(es).\")\n",
    "\n",
    "    # Count and display top 5 genres\n",
    "    genre_counts = Counter(all_genres)\n",
    "    top_genres = genre_counts.most_common(5)\n",
    "\n",
    "    print(f\"\\n🎧 Your Top 5 Genres ({time_range}):\\n\")\n",
    "    for idx, (genre, count) in enumerate(top_genres, start=1):\n",
    "        print(f\"{idx}. {genre} (Appears {count} time{'s' if count > 1 else ''})\")\n",
    "\n",
    "# Example usage:\n",
    "get_top_genres_from_artists(sp, batch_count=5)"
   ],
   "id": "b4b26531f91594e7",
   "outputs": [
    {
     "name": "stdout",
     "output_type": "stream",
     "text": [
      "\n",
      "Total of 52 artists extracted in 2 batchs.\n",
      "\n",
      "🎧 Your Top 5 Genres (short_term):\n",
      "\n",
      "1. phonk (Appears 37 times)\n",
      "2. brazilian phonk (Appears 26 times)\n",
      "3. drift phonk (Appears 13 times)\n",
      "4. anime (Appears 5 times)\n",
      "5. anime rap (Appears 4 times)\n"
     ]
    }
   ],
   "execution_count": 81
  },
  {
   "metadata": {
    "ExecuteTime": {
     "end_time": "2025-05-24T14:35:15.194353Z",
     "start_time": "2025-05-24T14:35:04.619364Z"
    }
   },
   "cell_type": "code",
   "source": [
    "from collections import Counter\n",
    "\n",
    "def get_top_genres_from_tracks(sp, batch_count=5, batch_size=50, time_range='short_term'):\n",
    "    all_genres = []\n",
    "    total_tracks = 0\n",
    "\n",
    "    for batch in range(batch_count):\n",
    "        offset = batch * batch_size\n",
    "        response = sp.current_user_top_tracks(limit=batch_size, offset=offset, time_range=time_range)\n",
    "        tracks = response.get('items', [])\n",
    "        batch_track_count = len(tracks)\n",
    "\n",
    "        if batch_track_count == 0:\n",
    "            batch = batch - 1\n",
    "            break\n",
    "\n",
    "        total_tracks += batch_track_count\n",
    "\n",
    "        # Collect artist IDs from tracks\n",
    "        artist_ids = set()\n",
    "        for track in tracks:\n",
    "            for artist in track.get('artists', []):\n",
    "                artist_ids.add(artist['id'])\n",
    "\n",
    "        # Fetch artist details to get genres\n",
    "        # Spotify API lets you get up to 50 artists in one request\n",
    "        artist_ids = list(artist_ids)\n",
    "        for i in range(0, len(artist_ids), 50):\n",
    "            batch_artist_ids = artist_ids[i:i+50]\n",
    "            artists_response = sp.artists(batch_artist_ids)\n",
    "            artists = artists_response.get('artists', [])\n",
    "            for artist in artists:\n",
    "                all_genres.extend(artist.get('genres', []))\n",
    "\n",
    "    print(f\"\\nTotal of {total_tracks} tracks processed in {batch + 1} batch(es).\")\n",
    "\n",
    "    # Count and display top 5 genres\n",
    "    genre_counts = Counter(all_genres)\n",
    "    top_genres = genre_counts.most_common(5)\n",
    "\n",
    "    print(f\"\\n🎧 Your Top 5 Genres (from tracks, {time_range}):\\n\")\n",
    "    for idx, (genre, count) in enumerate(top_genres, start=1):\n",
    "        print(f\"{idx}. {genre} (Appears {count} time{'s' if count > 1 else ''})\")\n",
    "\n",
    "get_top_genres_from_tracks(sp, batch_count=20)"
   ],
   "id": "d7a224923197e048",
   "outputs": [
    {
     "name": "stdout",
     "output_type": "stream",
     "text": [
      "\n",
      "Total of 607 tracks processed in 13 batch(es).\n",
      "\n",
      "🎧 Your Top 5 Genres (from tracks, short_term):\n",
      "\n",
      "1. phonk (Appears 521 times)\n",
      "2. brazilian phonk (Appears 350 times)\n",
      "3. drift phonk (Appears 156 times)\n",
      "4. anime rap (Appears 74 times)\n",
      "5. anime (Appears 48 times)\n"
     ]
    }
   ],
   "execution_count": 85
  }
 ],
 "metadata": {
  "kernelspec": {
   "display_name": "Python 3",
   "language": "python",
   "name": "python3"
  },
  "language_info": {
   "codemirror_mode": {
    "name": "ipython",
    "version": 2
   },
   "file_extension": ".py",
   "mimetype": "text/x-python",
   "name": "python",
   "nbconvert_exporter": "python",
   "pygments_lexer": "ipython2",
   "version": "2.7.6"
  }
 },
 "nbformat": 4,
 "nbformat_minor": 5
}
